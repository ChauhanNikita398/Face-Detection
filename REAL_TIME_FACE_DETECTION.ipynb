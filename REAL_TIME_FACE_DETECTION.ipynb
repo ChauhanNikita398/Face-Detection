{
 "cells": [
  {
   "cell_type": "code",
   "execution_count": 1,
   "metadata": {},
   "outputs": [],
   "source": [
    "####### DETECTING FACE IN A VIDEO #######\n",
    "\n",
    "import cv2\n",
    "import numpy as np\n",
    "\n",
    "# Step 1. Define detect function\n",
    "#face_cascade = cv2.CascadeClassifier('haarcascades/haarcascade_frontalface_default.xml')\n",
    "face_cascade = cv2.CascadeClassifier(cv2.data.haarcascades + 'haarcascade_frontalface_default.xml')\n",
    "def detect_face(img):\n",
    "    \n",
    "    img_copy = img.copy()\n",
    "    face_rects = face_cascade.detectMultiScale(img_copy)\n",
    "    \n",
    "    for (x, y, w, h) in face_rects:\n",
    "        cv2.rectangle(img_copy, (x, y), (x+w, y+h), (255, 255, 255), 3)\n",
    "        \n",
    "    return img_copy\n",
    "\n",
    "# Step 2. Call the cam\n",
    "cap = cv2.VideoCapture(0) \n",
    "\n",
    "while True: \n",
    "    \n",
    "    ret, frame = cap.read(0) \n",
    "     \n",
    "    frame = detect_face(frame)\n",
    "    cv2.imshow('Video Face Detection', frame) \n",
    " \n",
    "    c = cv2.waitKey(1) \n",
    "    if c == 27: \n",
    "        break \n",
    "        \n",
    "cap.release() \n",
    "cv2.destroyAllWindows()"
   ]
  },
  {
   "cell_type": "code",
   "execution_count": null,
   "metadata": {},
   "outputs": [],
   "source": []
  }
 ],
 "metadata": {
  "kernelspec": {
   "display_name": "Python 3",
   "language": "python",
   "name": "python3"
  },
  "language_info": {
   "codemirror_mode": {
    "name": "ipython",
    "version": 3
   },
   "file_extension": ".py",
   "mimetype": "text/x-python",
   "name": "python",
   "nbconvert_exporter": "python",
   "pygments_lexer": "ipython3",
   "version": "3.8.3"
  }
 },
 "nbformat": 4,
 "nbformat_minor": 4
}
